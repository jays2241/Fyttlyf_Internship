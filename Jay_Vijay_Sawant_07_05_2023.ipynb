{
  "nbformat": 4,
  "nbformat_minor": 0,
  "metadata": {
    "colab": {
      "provenance": [],
      "authorship_tag": "ABX9TyN/TlQg2ERU/YJCvnVUvcqE",
      "include_colab_link": true
    },
    "kernelspec": {
      "name": "python3",
      "display_name": "Python 3"
    },
    "language_info": {
      "name": "python"
    }
  },
  "cells": [
    {
      "cell_type": "markdown",
      "metadata": {
        "id": "view-in-github",
        "colab_type": "text"
      },
      "source": [
        "<a href=\"https://colab.research.google.com/github/jays2241/Fyttlyf_Internship/blob/main/Jay_Vijay_Sawant_07_05_2023.ipynb\" target=\"_parent\"><img src=\"https://colab.research.google.com/assets/colab-badge.svg\" alt=\"Open In Colab\"/></a>"
      ]
    },
    {
      "cell_type": "markdown",
      "source": [
        "Part 0 : Completed\n",
        "\n",
        "Part 2 :\n",
        "\n",
        "Part 3 :\n",
        "\n",
        "Part 4 :\n",
        "\n",
        "Part 5 :\n"
      ],
      "metadata": {
        "id": "hhuRY_VlGSah"
      }
    },
    {
      "cell_type": "markdown",
      "source": [
        "# Part 0: Critical Thinking\n",
        "\n"
      ],
      "metadata": {
        "id": "8gamvPW6K0Yo"
      }
    },
    {
      "cell_type": "markdown",
      "source": [
        "### Question:-\n",
        "\n",
        "### What do you think is the average revenue of your favourite youtuber? Explain how did you conclude this answer and what was your approach towards this question in brief.\n",
        "\n",
        "### Answer\n",
        "\n",
        "Youtuber:- Mr Indian Hacker\n",
        "\n",
        "Assumptions:\n",
        "\n",
        "\n",
        "1.   Subscribers:- 35 Million\n",
        "2.   Percentage of subscribers watching his video:- 20% which is 7 million\n",
        "3.   Average length of video:- 5 min\n",
        "4.   Number of videos per week:- 3\n",
        "5.   Revenue per 1000 views:- 60 rs\n",
        "\n",
        "\n",
        "\n",
        "My favourite youtuber is Mr. Indian Hacker. He has around 35 million subscribers on youtube as of may 2023. The percentage of subscribers watching his videos is assumed to be 20%, which means that 7 million people are watching his videos.\n",
        "\n",
        "Mr. Indian Hacker uploads around 3 videos per week, which means that he is getting around 21 million views per week (7 million viewers x 3 videos per week).\n",
        "\n",
        "Since the average length of his videos is assumed to be 5 minutes, he would be getting around 105 million minutes of watch time per week.\n",
        "\n",
        "Based on the assumption that a YouTuber typically earns around 60 rupees per 1000 views, Mr. Indian Hacker would be earning around 63 lakh rupees per week (105,000,000 minutes / 1,000 x 60 rupees per 1000 views = 63,00,000 rupees)."
      ],
      "metadata": {
        "id": "3UynxurQM9Rr"
      }
    },
    {
      "cell_type": "markdown",
      "source": [
        "# Part 1: Descriptive Analysis"
      ],
      "metadata": {
        "id": "Ct7Pt3Z9dqUW"
      }
    },
    {
      "cell_type": "code",
      "execution_count": null,
      "metadata": {
        "id": "FfjeTUOMF3NB"
      },
      "outputs": [],
      "source": []
    }
  ]
}